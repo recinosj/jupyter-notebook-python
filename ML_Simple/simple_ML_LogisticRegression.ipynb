{
 "cells": [
  {
   "cell_type": "markdown",
   "metadata": {},
   "source": [
    "## LogisticRegression\n",
    "not best on AimesHousing.txt"
   ]
  },
  {
   "cell_type": "code",
   "execution_count": 63,
   "metadata": {},
   "outputs": [],
   "source": [
    "import pandas as pd\n",
    "from sklearn.linear_model import LogisticRegression\n",
    "from sklearn.model_selection import train_test_split"
   ]
  },
  {
   "cell_type": "code",
   "execution_count": 64,
   "metadata": {},
   "outputs": [],
   "source": [
    "data = pd.read_csv('AmesHousing.txt', sep = '\\t')"
   ]
  },
  {
   "cell_type": "code",
   "execution_count": 65,
   "metadata": {},
   "outputs": [],
   "source": [
    "X = data[['Gr Liv Area']]\n",
    "y = data['SalePrice']"
   ]
  },
  {
   "cell_type": "code",
   "execution_count": 66,
   "metadata": {},
   "outputs": [
    {
     "data": {
      "text/plain": [
       "0    215000\n",
       "1    105000\n",
       "2    172000\n",
       "3    244000\n",
       "4    189900\n",
       "Name: SalePrice, dtype: int64"
      ]
     },
     "execution_count": 66,
     "metadata": {},
     "output_type": "execute_result"
    }
   ],
   "source": [
    "y.head()"
   ]
  },
  {
   "cell_type": "code",
   "execution_count": 67,
   "metadata": {},
   "outputs": [],
   "source": [
    "X_train, X_test, Y_train, Y_test = train_test_split(X, y, test_size=0.2, random_state=0)"
   ]
  },
  {
   "cell_type": "code",
   "execution_count": 68,
   "metadata": {},
   "outputs": [
    {
     "data": {
      "text/plain": [
       "LogisticRegression(C=1.0, class_weight=None, dual=False, fit_intercept=True,\n",
       "          intercept_scaling=1, max_iter=100, multi_class='ovr', n_jobs=1,\n",
       "          penalty='l2', random_state=None, solver='liblinear', tol=0.0001,\n",
       "          verbose=0, warm_start=False)"
      ]
     },
     "execution_count": 68,
     "metadata": {},
     "output_type": "execute_result"
    }
   ],
   "source": [
    "lr = LogisticRegression()\n",
    "#train the model.\n",
    "lr.fit(X_train, Y_train)"
   ]
  },
  {
   "cell_type": "code",
   "execution_count": 69,
   "metadata": {},
   "outputs": [
    {
     "data": {
      "text/plain": [
       "array([200000, 130000, 200000, 130000, 130000, 200000, 125000, 130000,\n",
       "       155000, 155000, 155000, 130000, 200000, 155000, 200000, 130000,\n",
       "       155000, 130000, 155000, 200000, 155000, 200000, 200000, 200000,\n",
       "       200000, 155000, 200000, 200000, 155000, 200000, 155000, 200000,\n",
       "       130000, 130000, 155000, 200000, 155000, 155000, 200000, 130000,\n",
       "       200000, 130000, 200000, 155000, 200000, 200000, 130000, 200000,\n",
       "       155000, 200000, 130000, 155000, 155000, 200000, 155000, 130000,\n",
       "       200000, 130000, 125000, 200000, 130000, 155000, 125000, 200000,\n",
       "       155000, 155000, 130000, 155000, 155000, 155000, 200000, 155000,\n",
       "       155000, 130000, 200000, 200000, 155000, 155000, 155000, 200000,\n",
       "       155000, 130000, 155000, 130000, 155000, 130000, 130000, 155000,\n",
       "       155000, 200000, 200000, 155000, 155000, 155000, 200000, 155000,\n",
       "       200000, 155000, 200000, 200000, 250000, 130000, 155000, 200000,\n",
       "       200000, 200000, 200000, 155000, 200000, 155000, 125000, 200000,\n",
       "       155000, 200000, 130000, 200000, 130000, 130000, 155000, 130000,\n",
       "       130000, 250000, 200000, 200000, 200000, 155000, 200000, 200000,\n",
       "       200000, 155000, 200000, 200000, 130000, 200000, 155000, 155000,\n",
       "       250000, 155000, 200000, 200000, 125000, 200000, 200000, 200000,\n",
       "       200000, 200000, 155000, 130000, 130000, 200000, 130000, 200000,\n",
       "       200000, 155000, 155000, 155000, 130000, 200000, 200000, 155000,\n",
       "       130000, 200000, 200000, 130000, 130000, 155000, 130000, 155000,\n",
       "       130000, 200000, 155000, 130000, 155000, 155000, 200000, 250000,\n",
       "       130000, 200000, 155000, 130000, 200000, 250000, 155000, 155000,\n",
       "       125000, 200000, 155000, 125000, 155000, 200000, 155000, 155000,\n",
       "       130000, 125000, 250000, 155000, 155000, 200000, 200000, 200000,\n",
       "       200000, 155000, 155000, 155000, 200000, 200000, 200000, 200000,\n",
       "       200000, 200000, 200000, 200000, 200000, 155000, 200000, 200000,\n",
       "       155000, 200000, 200000, 130000, 130000, 130000, 200000, 130000,\n",
       "       250000, 155000, 200000, 155000, 200000, 200000, 155000, 155000,\n",
       "       130000, 130000, 155000, 130000, 155000, 130000, 130000, 130000,\n",
       "       155000, 155000, 125000, 200000, 155000, 155000, 125000, 200000,\n",
       "       155000, 250000, 155000, 130000, 125000, 200000, 155000, 155000,\n",
       "       155000, 200000, 200000, 155000, 200000, 200000, 200000, 200000,\n",
       "       200000, 200000, 130000, 200000, 155000, 200000, 155000, 155000,\n",
       "       155000, 155000, 155000, 200000, 200000, 130000, 250000, 130000,\n",
       "       130000, 155000, 130000, 200000, 155000, 250000, 200000, 200000,\n",
       "       200000, 200000, 155000, 155000, 130000, 130000, 155000, 200000,\n",
       "       200000, 155000, 155000, 155000, 250000, 155000, 155000, 155000,\n",
       "       130000, 130000, 250000, 155000, 155000, 130000, 200000, 155000,\n",
       "       130000, 130000, 155000, 200000, 200000, 130000, 155000, 155000,\n",
       "       200000, 125000, 130000, 155000, 130000, 155000, 130000, 130000,\n",
       "       155000, 155000, 155000, 130000, 155000, 155000, 130000, 130000,\n",
       "       200000, 155000, 130000, 130000, 200000, 250000, 130000, 130000,\n",
       "       200000, 125000, 155000, 200000, 155000, 130000, 200000, 155000,\n",
       "       200000, 155000, 155000, 155000, 155000, 200000, 200000, 200000,\n",
       "       200000, 155000, 200000, 200000, 130000, 130000, 130000, 250000,\n",
       "       200000, 200000, 200000, 200000, 250000, 155000, 200000, 250000,\n",
       "       200000, 155000, 200000, 200000, 155000, 155000, 200000, 200000,\n",
       "       155000, 155000, 200000, 130000, 130000, 200000, 200000, 155000,\n",
       "       130000, 130000, 200000, 125000, 130000, 200000, 200000, 155000,\n",
       "       130000, 155000, 200000, 155000, 200000, 200000, 200000, 130000,\n",
       "       155000, 200000, 155000, 155000, 200000, 200000, 155000, 200000,\n",
       "       130000, 155000, 130000, 155000, 155000, 200000, 130000, 155000,\n",
       "       125000, 130000, 130000, 250000, 130000, 200000, 155000, 125000,\n",
       "       130000, 155000, 130000, 155000, 200000, 200000, 200000, 200000,\n",
       "       155000, 155000, 155000, 200000, 200000, 130000, 130000, 155000,\n",
       "       200000, 130000, 155000, 155000, 200000, 155000, 130000, 130000,\n",
       "       155000, 200000, 130000, 200000, 155000, 155000, 155000, 155000,\n",
       "       125000, 125000, 155000, 155000, 200000, 200000, 155000, 130000,\n",
       "       200000, 155000, 130000, 130000, 250000, 200000, 130000, 155000,\n",
       "       155000, 155000, 125000, 155000, 130000, 155000, 130000, 200000,\n",
       "       200000, 200000, 130000, 130000, 155000, 200000, 200000, 200000,\n",
       "       155000, 200000, 200000, 155000, 200000, 155000, 130000, 200000,\n",
       "       200000, 130000, 155000, 200000, 200000, 155000, 155000, 200000,\n",
       "       200000, 130000, 200000, 130000, 130000, 125000, 155000, 200000,\n",
       "       200000, 155000, 200000, 155000, 200000, 155000, 200000, 155000,\n",
       "       155000, 155000, 155000, 130000, 200000, 200000, 200000, 155000,\n",
       "       155000, 155000, 200000, 130000, 155000, 130000, 155000, 155000,\n",
       "       200000, 155000, 200000, 200000, 155000, 155000, 250000, 125000,\n",
       "       200000, 130000, 200000, 155000, 200000, 155000, 130000, 200000,\n",
       "       200000, 200000, 155000, 200000, 200000, 155000, 155000, 200000,\n",
       "       155000, 200000, 155000, 250000, 130000, 130000, 200000, 200000,\n",
       "       200000, 130000, 155000, 200000, 155000, 130000, 200000, 200000,\n",
       "       200000, 200000])"
      ]
     },
     "execution_count": 69,
     "metadata": {},
     "output_type": "execute_result"
    }
   ],
   "source": [
    "predictionsY = lr.predict(X_test)\n",
    "predictionsY"
   ]
  },
  {
   "cell_type": "markdown",
   "metadata": {},
   "source": [
    "### Mean squared error"
   ]
  },
  {
   "cell_type": "code",
   "execution_count": 79,
   "metadata": {},
   "outputs": [
    {
     "name": "stdout",
     "output_type": "stream",
     "text": [
      "Mean squared error: 4324019596.28\n"
     ]
    }
   ],
   "source": [
    "from sklearn.metrics import mean_squared_error\n",
    "print(\"Mean squared error: %.2f\" % mean_squared_error(Y_test, predictionsY))"
   ]
  },
  {
   "cell_type": "code",
   "execution_count": 80,
   "metadata": {},
   "outputs": [
    {
     "data": {
      "text/plain": [
       "4324019596.279863"
      ]
     },
     "execution_count": 80,
     "metadata": {},
     "output_type": "execute_result"
    }
   ],
   "source": [
    "test_rmse = mean_squared_error(Y_test, predictionsY)\n",
    "test_rmse"
   ]
  },
  {
   "cell_type": "code",
   "execution_count": 81,
   "metadata": {},
   "outputs": [
    {
     "data": {
      "text/plain": [
       "65757.27789590946"
      ]
     },
     "execution_count": 81,
     "metadata": {},
     "output_type": "execute_result"
    }
   ],
   "source": [
    "import numpy as np\n",
    "test_sq_rmse = np.sqrt(test_rmse)\n",
    "test_sq_rmse"
   ]
  },
  {
   "cell_type": "markdown",
   "metadata": {},
   "source": [
    "### Correlation of Features to Sales Price"
   ]
  },
  {
   "cell_type": "markdown",
   "metadata": {},
   "source": [
    "calculate the correlation of columns using the pandas.DataFrame.corr() method.<br>\n",
    "The closer the correlation coefficient is to 1.0, the stronger the correlation.<br>\n",
    "Looking at the \"SalePrice\" column, the correlation between \"Gr Liv Area\" and \"SalePrice\" is 0.708624, which is the highest."
   ]
  },
  {
   "cell_type": "code",
   "execution_count": 87,
   "metadata": {},
   "outputs": [
    {
     "name": "stdout",
     "output_type": "stream",
     "text": [
      "              Garage Area  Gr Liv Area  Overall Cond  SalePrice\n",
      "Garage Area      1.000000     0.484892     -0.153754   0.640401\n",
      "Gr Liv Area      0.484892     1.000000     -0.115643   0.706780\n",
      "Overall Cond    -0.153754    -0.115643      1.000000  -0.101697\n",
      "SalePrice        0.640401     0.706780     -0.101697   1.000000\n"
     ]
    }
   ],
   "source": [
    "print(data[['Garage Area', 'Gr Liv Area', 'Overall Cond', 'SalePrice']].corr())"
   ]
  },
  {
   "cell_type": "code",
   "execution_count": null,
   "metadata": {},
   "outputs": [],
   "source": []
  }
 ],
 "metadata": {
  "kernelspec": {
   "display_name": "Python 3",
   "language": "python",
   "name": "python3"
  },
  "language_info": {
   "codemirror_mode": {
    "name": "ipython",
    "version": 3
   },
   "file_extension": ".py",
   "mimetype": "text/x-python",
   "name": "python",
   "nbconvert_exporter": "python",
   "pygments_lexer": "ipython3",
   "version": "3.6.5"
  }
 },
 "nbformat": 4,
 "nbformat_minor": 2
}
